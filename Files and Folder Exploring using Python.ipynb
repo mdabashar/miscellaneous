{
 "cells": [
  {
   "cell_type": "markdown",
   "id": "a404f0ba",
   "metadata": {},
   "source": [
    "### Files and Folder Exploring using Python"
   ]
  },
  {
   "cell_type": "code",
   "execution_count": 1,
   "id": "c56d46c6",
   "metadata": {},
   "outputs": [],
   "source": [
    "import pandas as pd\n",
    "from os import listdir\n",
    "from os.path import isfile, join\n",
    "import re"
   ]
  },
  {
   "cell_type": "code",
   "execution_count": 3,
   "id": "ce74242f",
   "metadata": {},
   "outputs": [],
   "source": [
    "BASE = r'C:\\Users\\basharm\\cloudstor\\Shared\\DoR Deliverables\\Appendix_Analysis'"
   ]
  },
  {
   "cell_type": "code",
   "execution_count": 6,
   "id": "8b9ec14f",
   "metadata": {},
   "outputs": [
    {
     "data": {
      "text/plain": [
       "['reports0_500.csv',\n",
       " 'reports10000_10500.csv',\n",
       " 'reports1000_1500.csv',\n",
       " 'reports10500_11000.csv',\n",
       " 'reports11000_11500.csv']"
      ]
     },
     "execution_count": 6,
     "metadata": {},
     "output_type": "execute_result"
    }
   ],
   "source": [
    "# List of coal report names\n",
    "file_list = [f for f in listdir(BASE) if isfile(join(BASE, f)) and f.startswith('reports')]\n",
    "file_list[:5]"
   ]
  },
  {
   "cell_type": "code",
   "execution_count": 10,
   "id": "427b5f50",
   "metadata": {},
   "outputs": [
    {
     "data": {
      "text/plain": [
       "34"
      ]
     },
     "execution_count": 10,
     "metadata": {},
     "output_type": "execute_result"
    }
   ],
   "source": [
    "df_list = []\n",
    "for file in file_list:\n",
    "    df_list.append(pd.read_csv(join(BASE, file)))\n",
    "    \n",
    "len(df_list)"
   ]
  },
  {
   "cell_type": "code",
   "execution_count": 14,
   "id": "c56774f2",
   "metadata": {},
   "outputs": [
    {
     "data": {
      "text/html": [
       "<div>\n",
       "<style scoped>\n",
       "    .dataframe tbody tr th:only-of-type {\n",
       "        vertical-align: middle;\n",
       "    }\n",
       "\n",
       "    .dataframe tbody tr th {\n",
       "        vertical-align: top;\n",
       "    }\n",
       "\n",
       "    .dataframe thead th {\n",
       "        text-align: right;\n",
       "    }\n",
       "</style>\n",
       "<table border=\"1\" class=\"dataframe\">\n",
       "  <thead>\n",
       "    <tr style=\"text-align: right;\">\n",
       "      <th></th>\n",
       "      <th>Unnamed: 0</th>\n",
       "      <th>report_id</th>\n",
       "      <th>format</th>\n",
       "      <th>name</th>\n",
       "      <th>url</th>\n",
       "    </tr>\n",
       "  </thead>\n",
       "  <tbody>\n",
       "    <tr>\n",
       "      <th>0</th>\n",
       "      <td>0</td>\n",
       "      <td>cr091539</td>\n",
       "      <td>ZIP</td>\n",
       "      <td>CR091539 Report Geometry</td>\n",
       "      <td>https://gsq-prod-ckan-horizon-public.s3-ap-sou...</td>\n",
       "    </tr>\n",
       "    <tr>\n",
       "      <th>1</th>\n",
       "      <td>0</td>\n",
       "      <td>cr091539</td>\n",
       "      <td>PDF</td>\n",
       "      <td>REPORT BODY</td>\n",
       "      <td>https://gsq-prod-ckan-horizon-public.s3-ap-sou...</td>\n",
       "    </tr>\n",
       "    <tr>\n",
       "      <th>2</th>\n",
       "      <td>0</td>\n",
       "      <td>cr091539</td>\n",
       "      <td>PDF</td>\n",
       "      <td>APPENDIX 15 - WALFORD RESOURCE ANNOUNCEMENT 20...</td>\n",
       "      <td>https://gsq-prod-ckan-horizon-public.s3-ap-sou...</td>\n",
       "    </tr>\n",
       "    <tr>\n",
       "      <th>3</th>\n",
       "      <td>0</td>\n",
       "      <td>cr091539</td>\n",
       "      <td>ZIP</td>\n",
       "      <td>APPENDIX 14 - CROSS SECTIONS BY H&amp;S CONSULTING</td>\n",
       "      <td>https://gsq-prod-ckan-horizon-public.s3-ap-sou...</td>\n",
       "    </tr>\n",
       "    <tr>\n",
       "      <th>4</th>\n",
       "      <td>0</td>\n",
       "      <td>cr091539</td>\n",
       "      <td>ZIP</td>\n",
       "      <td>APPENDIX 13 - XRF AND XRD ANALYSIS ON TWO SAMP...</td>\n",
       "      <td>https://gsq-prod-ckan-horizon-public.s3-ap-sou...</td>\n",
       "    </tr>\n",
       "    <tr>\n",
       "      <th>...</th>\n",
       "      <td>...</td>\n",
       "      <td>...</td>\n",
       "      <td>...</td>\n",
       "      <td>...</td>\n",
       "      <td>...</td>\n",
       "    </tr>\n",
       "    <tr>\n",
       "      <th>495</th>\n",
       "      <td>9995</td>\n",
       "      <td>cr079710</td>\n",
       "      <td>PDF</td>\n",
       "      <td>WHOLE REPORT</td>\n",
       "      <td>https://gsq-prod-ckan-horizon-public.s3-ap-sou...</td>\n",
       "    </tr>\n",
       "    <tr>\n",
       "      <th>496</th>\n",
       "      <td>9996</td>\n",
       "      <td>cr079710</td>\n",
       "      <td>JSON</td>\n",
       "      <td>Report_Main_79710</td>\n",
       "      <td>https://gsq-prod-ckan-horizon-public.s3-ap-sou...</td>\n",
       "    </tr>\n",
       "    <tr>\n",
       "      <th>497</th>\n",
       "      <td>9997</td>\n",
       "      <td>cr079711</td>\n",
       "      <td>ZIP</td>\n",
       "      <td>CR079711 Report Geometry</td>\n",
       "      <td>https://gsq-prod-ckan-horizon-public.s3-ap-sou...</td>\n",
       "    </tr>\n",
       "    <tr>\n",
       "      <th>498</th>\n",
       "      <td>9998</td>\n",
       "      <td>cr079711</td>\n",
       "      <td>PDF</td>\n",
       "      <td>WHOLE REPORT</td>\n",
       "      <td>https://gsq-prod-ckan-horizon-public.s3-ap-sou...</td>\n",
       "    </tr>\n",
       "    <tr>\n",
       "      <th>499</th>\n",
       "      <td>9999</td>\n",
       "      <td>cr079711</td>\n",
       "      <td>JSON</td>\n",
       "      <td>Report_Main_79711</td>\n",
       "      <td>https://gsq-prod-ckan-horizon-public.s3-ap-sou...</td>\n",
       "    </tr>\n",
       "  </tbody>\n",
       "</table>\n",
       "<p>49887 rows × 5 columns</p>\n",
       "</div>"
      ],
      "text/plain": [
       "     Unnamed: 0 report_id format  \\\n",
       "0             0  cr091539    ZIP   \n",
       "1             0  cr091539    PDF   \n",
       "2             0  cr091539    PDF   \n",
       "3             0  cr091539    ZIP   \n",
       "4             0  cr091539    ZIP   \n",
       "..          ...       ...    ...   \n",
       "495        9995  cr079710    PDF   \n",
       "496        9996  cr079710   JSON   \n",
       "497        9997  cr079711    ZIP   \n",
       "498        9998  cr079711    PDF   \n",
       "499        9999  cr079711   JSON   \n",
       "\n",
       "                                                  name  \\\n",
       "0                             CR091539 Report Geometry   \n",
       "1                                          REPORT BODY   \n",
       "2    APPENDIX 15 - WALFORD RESOURCE ANNOUNCEMENT 20...   \n",
       "3       APPENDIX 14 - CROSS SECTIONS BY H&S CONSULTING   \n",
       "4    APPENDIX 13 - XRF AND XRD ANALYSIS ON TWO SAMP...   \n",
       "..                                                 ...   \n",
       "495                                       WHOLE REPORT   \n",
       "496                                  Report_Main_79710   \n",
       "497                           CR079711 Report Geometry   \n",
       "498                                       WHOLE REPORT   \n",
       "499                                  Report_Main_79711   \n",
       "\n",
       "                                                   url  \n",
       "0    https://gsq-prod-ckan-horizon-public.s3-ap-sou...  \n",
       "1    https://gsq-prod-ckan-horizon-public.s3-ap-sou...  \n",
       "2    https://gsq-prod-ckan-horizon-public.s3-ap-sou...  \n",
       "3    https://gsq-prod-ckan-horizon-public.s3-ap-sou...  \n",
       "4    https://gsq-prod-ckan-horizon-public.s3-ap-sou...  \n",
       "..                                                 ...  \n",
       "495  https://gsq-prod-ckan-horizon-public.s3-ap-sou...  \n",
       "496  https://gsq-prod-ckan-horizon-public.s3-ap-sou...  \n",
       "497  https://gsq-prod-ckan-horizon-public.s3-ap-sou...  \n",
       "498  https://gsq-prod-ckan-horizon-public.s3-ap-sou...  \n",
       "499  https://gsq-prod-ckan-horizon-public.s3-ap-sou...  \n",
       "\n",
       "[49887 rows x 5 columns]"
      ]
     },
     "execution_count": 14,
     "metadata": {},
     "output_type": "execute_result"
    }
   ],
   "source": [
    "dfs = pd.concat(df_list, axis=0)\n",
    "dfs"
   ]
  }
 ],
 "metadata": {
  "kernelspec": {
   "display_name": "Python 3 (ipykernel)",
   "language": "python",
   "name": "python3"
  },
  "language_info": {
   "codemirror_mode": {
    "name": "ipython",
    "version": 3
   },
   "file_extension": ".py",
   "mimetype": "text/x-python",
   "name": "python",
   "nbconvert_exporter": "python",
   "pygments_lexer": "ipython3",
   "version": "3.9.13"
  }
 },
 "nbformat": 4,
 "nbformat_minor": 5
}
