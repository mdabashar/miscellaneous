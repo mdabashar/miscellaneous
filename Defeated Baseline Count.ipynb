{
 "cells": [
  {
   "cell_type": "markdown",
   "metadata": {},
   "source": [
    "### Defeated Baseline Count"
   ]
  },
  {
   "cell_type": "code",
   "execution_count": 1,
   "metadata": {},
   "outputs": [],
   "source": [
    "import numpy as np\n",
    "import matplotlib.pyplot as plt\n",
    "from evaldata import EvalData"
   ]
  },
  {
   "cell_type": "code",
   "execution_count": 2,
   "metadata": {},
   "outputs": [
    {
     "name": "stdout",
     "output_type": "stream",
     "text": [
      "Eval Data Object Created\n"
     ]
    },
    {
     "data": {
      "text/plain": [
       "(9, 46)"
      ]
     },
     "execution_count": 2,
     "metadata": {},
     "output_type": "execute_result"
    }
   ],
   "source": [
    "BASE = 'AnomalyDetection_NabData_Txt\\\\'\n",
    "\n",
    "# measure = 'Accuracy'\n",
    "#measure = 'Precision'\n",
    "# measure = 'Recall'\n",
    "measure = 'f-measure'\n",
    "# measure = 'cohen_kappa_score'\n",
    "# measure = 'auc'\n",
    "\n",
    "title = ''\n",
    "if measure == 'f-measure':\n",
    "    SUB = str.maketrans(\"0123456789\", \"₀₁₂₃₄₅₆₇₈₉\")\n",
    "    title = 'F1 Score'.translate(SUB)\n",
    "elif measure == 'cohen_kappa_score':\n",
    "    title = 'Cohen Kappa Score'\n",
    "elif measure == 'auc':\n",
    "    title = 'Area Under Curve'\n",
    "else:\n",
    "    title = measure\n",
    "\n",
    "ed = EvalData()\n",
    "data = ed.get_data(BASE, measure)\n",
    "data.shape"
   ]
  },
  {
   "cell_type": "code",
   "execution_count": 3,
   "metadata": {},
   "outputs": [
    {
     "data": {
      "text/plain": [
       "array([4, 6, 8, 6, 8, 5, 7, 6, 8, 8, 8, 8, 3, 6, 7, 6, 8, 7, 6, 7, 5, 8,\n",
       "       8, 8, 4, 8, 8, 8, 1, 7, 8, 8, 5, 4, 8, 6, 7, 7, 5, 5, 8, 8, 6, 6,\n",
       "       7, 7])"
      ]
     },
     "execution_count": 3,
     "metadata": {},
     "output_type": "execute_result"
    }
   ],
   "source": [
    "import numpy as np\n",
    "\n",
    "ds_names = np.array(['realKnownCause: ambient_temperature_system_failure',\n",
    "'realKnownCause: cpu_utilization_asg_misconfiguration',\n",
    "'realKnownCause: ec2_request_latency_system_failure',\n",
    "'realKnownCause: machine_temperature_system_failure',\n",
    "'realKnownCause: nyc_taxi',\n",
    "'realKnownCause: rogue_agent_key_hold',\n",
    "'realKnownCause: rogue_agent_key_updown',\n",
    "'realTraffic: occupancy_6005',\n",
    "'realTraffic: occupancy_t4013',\n",
    "'realTraffic: speed_6005',\n",
    "'realTraffic: speed_7578',\n",
    "'realTraffic: speed_t4013',\n",
    "'realTraffic: TravelTime_387',\n",
    "'realTraffic: TravelTime_451',\n",
    "'realTweets: Twitter_volume_AAPL',\n",
    "'realTweets: Twitter_volume_AMZN',\n",
    "'realTweets: Twitter_volume_CRM',\n",
    "'realTweets: Twitter_volume_CVS',\n",
    "'realTweets: Twitter_volume_FB',\n",
    "'realTweets: Twitter_volume_GOOG',\n",
    "'realTweets: Twitter_volume_IBM',\n",
    "'realTweets: Twitter_volume_KO',\n",
    "'realTweets: Twitter_volume_PFE',\n",
    "'realTweets: Twitter_volume_UPS',\n",
    "'realAWSCloudwatch: ec2_cpu_utilization_5f5533',\n",
    "'realAWSCloudwatch: ec2_cpu_utilization_24ae8d',\n",
    "'realAWSCloudwatch: ec2_cpu_utilization_53ea38',\n",
    "'realAWSCloudwatch: ec2_cpu_utilization_77c1ca',\n",
    "'realAWSCloudwatch: ec2_cpu_utilization_825cc2',\n",
    "'realAWSCloudwatch: ec2_cpu_utilization_ac20cd',\n",
    "'realAWSCloudwatch: ec2_cpu_utilization_fe7f93',\n",
    "'realAWSCloudwatch: ec2_disk_write_bytes_1ef3de',\n",
    "'realAWSCloudwatch: ec2_disk_write_bytes_c0d644',\n",
    "'realAWSCloudwatch: ec2_network_in_5abac7',\n",
    "'realAWSCloudwatch: ec2_network_in_257a54',\n",
    "'realAWSCloudwatch: elb_request_count_8c0756',\n",
    "'realAWSCloudwatch: grok_asg_anomaly',\n",
    "'realAWSCloudwatch: iio_us-east-1_i-a2eb1cd9_NetworkIn',\n",
    "'realAWSCloudwatch: rds_cpu_utilization_cc0c53',\n",
    "'realAWSCloudwatch: rds_cpu_utilization_e47b3b',\n",
    "'realAdExchange: exchange-2_cpc_results',\n",
    "'realAdExchange: exchange-2_cpm_results',\n",
    "'realAdExchange: exchange-3_cpc_results',\n",
    "'realAdExchange: exchange-3_cpm_results',\n",
    "'realAdExchange: exchange-4_cpc_results',\n",
    "'realAdExchange: exchange-4_cpm_results'])\n",
    "\n",
    "\n",
    "def pairwiseComperisonDIdx(data, mod_no):\n",
    "    \n",
    "    idx = mod_no\n",
    "    models = ['MadGan', 'AutoEncoder', 'VanLstm', 'IsoForest', 'GMM', 'OcSVM', 'BiLstmGan', 'CnnGan', 'MTSAaGAN']\n",
    "    data = data.transpose()\n",
    "    tm = np.array([row[8] for row in data])\n",
    "    bm = np.array([row[idx] for row in data])\n",
    "    idx_list = []\n",
    "    for idx, _ in enumerate(tm):\n",
    "        if tm[idx] < bm[idx]:\n",
    "            idx_list.append(idx)\n",
    "            #print('dataset', (idx+1))\n",
    "    return idx_list\n",
    "\n",
    "beat_dist = np.full(46,8)\n",
    "for mod_no in range(8):\n",
    "    idxs = pairwiseComperisonDIdx(data, mod_no)\n",
    "    for idx in idxs:\n",
    "        beat_dist[idx]-=1\n",
    "    \n",
    "beat_dist"
   ]
  },
  {
   "cell_type": "code",
   "execution_count": 4,
   "metadata": {},
   "outputs": [
    {
     "data": {
      "text/plain": [
       "array(['g', 'g', 'g', 'g', 'g', 'g', 'g', 'b', 'b', 'b', 'b', 'b', 'b',\n",
       "       'b', 'y', 'y', 'y', 'y', 'y', 'y', 'y', 'y', 'y', 'y', 'm', 'm',\n",
       "       'm', 'm', 'm', 'm', 'm', 'm', 'm', 'm', 'm', 'm', 'm', 'm', 'm',\n",
       "       'm', 'c', 'c', 'c', 'c', 'c', 'c'], dtype='<U1')"
      ]
     },
     "execution_count": 4,
     "metadata": {},
     "output_type": "execute_result"
    }
   ],
   "source": [
    "colors = []\n",
    "color = 0\n",
    "prev = ''\n",
    "for idx, name in enumerate(ds_names):\n",
    "    folder, fname = name.split(': ')\n",
    "    if prev!= folder:\n",
    "        color += 1\n",
    "        prev=folder\n",
    "    colors.append(color)\n",
    "        \n",
    "colors1 = np.array(['r', 'g', 'b', 'y', 'm', 'c'])[colors]\n",
    "colors1"
   ]
  },
  {
   "cell_type": "code",
   "execution_count": 5,
   "metadata": {},
   "outputs": [],
   "source": [
    "import pandas as pd\n",
    "base2 = 'C:\\\\Users\\\\basharm\\\\OneDrive - Queensland University of Technology\\\\JupyterPythonQUT\\\\Verton\\\\AnomalyDetection_Temp\\\\AnomalyDetectionData\\\\NabDataset\\\\data\\\\'\n",
    "point_count = []\n",
    "for idx, name in enumerate(ds_names):\n",
    "    folder, fname = name.split(': ')\n",
    "    df = pd.read_csv(base2+folder+'\\\\'+fname+'.csv')\n",
    "    point_count.append(len(df))"
   ]
  },
  {
   "cell_type": "code",
   "execution_count": 6,
   "metadata": {},
   "outputs": [
    {
     "data": {
      "image/png": "[encoded data removed]",
      "text/plain": [
       "<Figure size 432x288 with 1 Axes>"
      ]
     },
     "metadata": {
      "needs_background": "light"
     },
     "output_type": "display_data"
    }
   ],
   "source": [
    "(unique, counts) = np.unique(beat_dist, return_counts=True)\n",
    "\n",
    "fig = plt.figure()\n",
    "ax = fig.add_axes([0,0,1,1])\n",
    "#plt.xlim(0, 47)\n",
    "plt.xticks(range(47), rotation=90)\n",
    "plt.xlabel('defeated baseline count', fontsize=16)\n",
    "#plt.ylim(0, 8.5)\n",
    "plt.ylabel('dataset size', fontsize=16)\n",
    "#plt.grid()\n",
    "plt.title('F1 Score'.translate(SUB))\n",
    "plt.scatter(beat_dist, point_count, color=colors1)\n",
    "ax.plot([.48, .48], [0, 1], transform=ax.transAxes, color='k')\n",
    "ax.plot([0, 1], [.207, .207], transform=ax.transAxes, color='k')\n",
    "#plt.bar(range(1,47), beat_dist, color=colors1)\n",
    "plt.show()"
   ]
  }
 ],
 "metadata": {
  "kernelspec": {
   "display_name": "Python 3 (ipykernel)",
   "language": "python",
   "name": "python3"
  },
  "language_info": {
   "codemirror_mode": {
    "name": "ipython",
    "version": 3
   },
   "file_extension": ".py",
   "mimetype": "text/x-python",
   "name": "python",
   "nbconvert_exporter": "python",
   "pygments_lexer": "ipython3",
   "version": "3.9.13"
  }
 },
 "nbformat": 4,
 "nbformat_minor": 4
}
