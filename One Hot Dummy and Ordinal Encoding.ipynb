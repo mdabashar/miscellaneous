{
 "cells": [
  {
   "cell_type": "markdown",
   "id": "c410157c",
   "metadata": {},
   "source": [
    "## One Hot, Dummy and Ordinal Encoding\n",
    "\n",
    "Reference:\n",
    "\n",
    "[1] https://machinelearningmastery.com/one-hot-encoding-for-categorical-data/\n",
    "\n",
    "[2] https://datascience.stackexchange.com/questions/72343/encoding-with-ordinalencoder-how-to-give-levels-as-user-input"
   ]
  },
  {
   "cell_type": "code",
   "execution_count": 1,
   "id": "c76ed397",
   "metadata": {},
   "outputs": [],
   "source": [
    "# example of a one hot encoding\n",
    "from numpy import asarray\n",
    "import pandas as pd\n",
    "from sklearn.preprocessing import OneHotEncoder\n",
    "from sklearn.preprocessing import OrdinalEncoder"
   ]
  },
  {
   "cell_type": "markdown",
   "id": "99acabfb",
   "metadata": {},
   "source": [
    "### One Hot Encoding\n",
    "\n",
    "For categorical variables where no ordinal relationship exists, the integer encoding may not be enough, at best, or misleading to the model at worst.\n",
    "\n",
    "Forcing an ordinal relationship via an ordinal encoding and allowing the model to assume a natural ordering between categories may result in poor performance or unexpected results (predictions halfway between categories).\n",
    "\n",
    "In this case, a one-hot encoding can be applied to the ordinal representation. This is where one new binary variable is added for each unique value in the variable."
   ]
  },
  {
   "cell_type": "code",
   "execution_count": 2,
   "id": "0f9803fd",
   "metadata": {},
   "outputs": [
    {
     "name": "stdout",
     "output_type": "stream",
     "text": [
      "---------Data-------------\n",
      "[['red']\n",
      " ['green']\n",
      " ['blue']\n",
      " ['red']\n",
      " ['green']\n",
      " ['blue']]\n",
      "---------Encoding-------------\n",
      "[[0. 0. 1.]\n",
      " [0. 1. 0.]\n",
      " [1. 0. 0.]\n",
      " [0. 0. 1.]\n",
      " [0. 1. 0.]\n",
      " [1. 0. 0.]]\n"
     ]
    }
   ],
   "source": [
    "# define data\n",
    "data = asarray([['red'], ['green'], ['blue'], ['red'], ['green'], ['blue']])\n",
    "print('---------Data-------------')\n",
    "print(data)\n",
    "# define one hot encoding\n",
    "encoder = OneHotEncoder(sparse=False)\n",
    "# transform data\n",
    "onehot = encoder.fit_transform(data)\n",
    "\n",
    "print('---------Encoding-------------')\n",
    "print(onehot)"
   ]
  },
  {
   "cell_type": "markdown",
   "id": "bec3738b",
   "metadata": {},
   "source": [
    "### Dummy Variable Encoding\n",
    "\n",
    "The one-hot encoding creates one binary variable for each category. The problem is that this representation includes redundancy. For example, if we know that [1, 0, 0] represents “blue” and [0, 1, 0] represents “green” we don’t need another binary variable to represent “red“, instead we could use 0 values for both “blue” and “green” alone, e.g. [0, 0]. This is called a dummy variable encoding, and always represents C categories with C-1 binary variables.\n",
    "\n",
    "In addition to being slightly less redundant, a dummy variable representation is required for some models. For example, in the case of a linear regression model (and other regression models that have a bias term), a one hot encoding will case the matrix of input data to become singular, meaning it cannot be inverted and the linear regression coefficients cannot be calculated using linear algebra. For these types of models a dummy variable encoding must be used instead.\n",
    "\n",
    "We can use the OneHotEncoder class to implement a dummy encoding as well as a one hot encoding.\n",
    "\n",
    "The “drop” argument can be set to indicate which category will be come the one that is assigned all zero values, called the “baseline“. "
   ]
  },
  {
   "cell_type": "code",
   "execution_count": 3,
   "id": "fd38c947",
   "metadata": {},
   "outputs": [
    {
     "name": "stdout",
     "output_type": "stream",
     "text": [
      "---------Data-------------\n",
      "[['red']\n",
      " ['green']\n",
      " ['blue']\n",
      " ['red']\n",
      " ['green']\n",
      " ['blue']]\n",
      "---------Encoding-------------\n",
      "[[0. 1.]\n",
      " [1. 0.]\n",
      " [0. 0.]\n",
      " [0. 1.]\n",
      " [1. 0.]\n",
      " [0. 0.]]\n"
     ]
    }
   ],
   "source": [
    "# define data\n",
    "data = asarray([['red'], ['green'], ['blue'], ['red'], ['green'], ['blue']])\n",
    "print('---------Data-------------')\n",
    "print(data)\n",
    "# define one hot encoding\n",
    "encoder = OneHotEncoder(drop='first', sparse=False)\n",
    "# transform data\n",
    "onehot = encoder.fit_transform(data)\n",
    "\n",
    "print('---------Encoding-------------')\n",
    "print(onehot)"
   ]
  },
  {
   "cell_type": "markdown",
   "id": "dabe5401",
   "metadata": {},
   "source": [
    "### Ordinal Encoding\n",
    "\n",
    "An ordinal encoding involves mapping each unique label to an integer value.\n",
    "\n",
    "This type of encoding is really only appropriate if there is a known relationship between the categories. This relationship does exist for some of the variables in our dataset, and ideally, this should be harnessed when preparing the data.\n",
    "\n",
    "We can use the OrdinalEncoder from scikit-learn to encode each variable to integers. This is a flexible class and does allow the order of the categories to be specified as arguments if any such order is known."
   ]
  },
  {
   "cell_type": "code",
   "execution_count": 4,
   "id": "0d697e20",
   "metadata": {},
   "outputs": [
    {
     "data": {
      "text/html": [
       "<div>\n",
       "<style scoped>\n",
       "    .dataframe tbody tr th:only-of-type {\n",
       "        vertical-align: middle;\n",
       "    }\n",
       "\n",
       "    .dataframe tbody tr th {\n",
       "        vertical-align: top;\n",
       "    }\n",
       "\n",
       "    .dataframe thead th {\n",
       "        text-align: right;\n",
       "    }\n",
       "</style>\n",
       "<table border=\"1\" class=\"dataframe\">\n",
       "  <thead>\n",
       "    <tr style=\"text-align: right;\">\n",
       "      <th></th>\n",
       "      <th>Q1</th>\n",
       "      <th>Q2</th>\n",
       "    </tr>\n",
       "  </thead>\n",
       "  <tbody>\n",
       "    <tr>\n",
       "      <th>0</th>\n",
       "      <td>good</td>\n",
       "      <td>low</td>\n",
       "    </tr>\n",
       "    <tr>\n",
       "      <th>1</th>\n",
       "      <td>better</td>\n",
       "      <td>medioum</td>\n",
       "    </tr>\n",
       "    <tr>\n",
       "      <th>2</th>\n",
       "      <td>best</td>\n",
       "      <td>high</td>\n",
       "    </tr>\n",
       "    <tr>\n",
       "      <th>3</th>\n",
       "      <td>good</td>\n",
       "      <td>low</td>\n",
       "    </tr>\n",
       "    <tr>\n",
       "      <th>4</th>\n",
       "      <td>better</td>\n",
       "      <td>medioum</td>\n",
       "    </tr>\n",
       "    <tr>\n",
       "      <th>5</th>\n",
       "      <td>best</td>\n",
       "      <td>high</td>\n",
       "    </tr>\n",
       "  </tbody>\n",
       "</table>\n",
       "</div>"
      ],
      "text/plain": [
       "       Q1       Q2\n",
       "0    good      low\n",
       "1  better  medioum\n",
       "2    best     high\n",
       "3    good      low\n",
       "4  better  medioum\n",
       "5    best     high"
      ]
     },
     "execution_count": 4,
     "metadata": {},
     "output_type": "execute_result"
    }
   ],
   "source": [
    "# define data\n",
    "data = asarray([['good', 'low'], ['better', 'medioum'], ['best', 'high'], ['good', 'low'], ['better', 'medioum'], ['best', 'high']])\n",
    "df = pd.DataFrame(data, columns=['Q1', 'Q2']) # for better visualisation\n",
    "df"
   ]
  },
  {
   "cell_type": "code",
   "execution_count": 5,
   "id": "4353659a",
   "metadata": {},
   "outputs": [
    {
     "data": {
      "text/html": [
       "<div>\n",
       "<style scoped>\n",
       "    .dataframe tbody tr th:only-of-type {\n",
       "        vertical-align: middle;\n",
       "    }\n",
       "\n",
       "    .dataframe tbody tr th {\n",
       "        vertical-align: top;\n",
       "    }\n",
       "\n",
       "    .dataframe thead th {\n",
       "        text-align: right;\n",
       "    }\n",
       "</style>\n",
       "<table border=\"1\" class=\"dataframe\">\n",
       "  <thead>\n",
       "    <tr style=\"text-align: right;\">\n",
       "      <th></th>\n",
       "      <th>Q1</th>\n",
       "      <th>Q2</th>\n",
       "    </tr>\n",
       "  </thead>\n",
       "  <tbody>\n",
       "    <tr>\n",
       "      <th>0</th>\n",
       "      <td>0.0</td>\n",
       "      <td>0.0</td>\n",
       "    </tr>\n",
       "    <tr>\n",
       "      <th>1</th>\n",
       "      <td>1.0</td>\n",
       "      <td>1.0</td>\n",
       "    </tr>\n",
       "    <tr>\n",
       "      <th>2</th>\n",
       "      <td>2.0</td>\n",
       "      <td>2.0</td>\n",
       "    </tr>\n",
       "    <tr>\n",
       "      <th>3</th>\n",
       "      <td>0.0</td>\n",
       "      <td>0.0</td>\n",
       "    </tr>\n",
       "    <tr>\n",
       "      <th>4</th>\n",
       "      <td>1.0</td>\n",
       "      <td>1.0</td>\n",
       "    </tr>\n",
       "    <tr>\n",
       "      <th>5</th>\n",
       "      <td>2.0</td>\n",
       "      <td>2.0</td>\n",
       "    </tr>\n",
       "  </tbody>\n",
       "</table>\n",
       "</div>"
      ],
      "text/plain": [
       "    Q1   Q2\n",
       "0  0.0  0.0\n",
       "1  1.0  1.0\n",
       "2  2.0  2.0\n",
       "3  0.0  0.0\n",
       "4  1.0  1.0\n",
       "5  2.0  2.0"
      ]
     },
     "execution_count": 5,
     "metadata": {},
     "output_type": "execute_result"
    }
   ],
   "source": [
    "# define ordinal encoding\n",
    "encoder = OrdinalEncoder(categories=[['good', 'better', 'best'], ['low', 'medioum', 'high']])\n",
    "\n",
    "# transform data\n",
    "ordinal = encoder.fit_transform(df) \n",
    "# or you can feed the number array as well\n",
    "#ordinal = encoder.fit_transform(data) \n",
    "\n",
    "df2 = pd.DataFrame(ordinal, columns=['Q1', 'Q2'])\n",
    "df2"
   ]
  }
 ],
 "metadata": {
  "kernelspec": {
   "display_name": "Python 3",
   "language": "python",
   "name": "python3"
  },
  "language_info": {
   "codemirror_mode": {
    "name": "ipython",
    "version": 3
   },
   "file_extension": ".py",
   "mimetype": "text/x-python",
   "name": "python",
   "nbconvert_exporter": "python",
   "pygments_lexer": "ipython3",
   "version": "3.8.8"
  }
 },
 "nbformat": 4,
 "nbformat_minor": 5
}
