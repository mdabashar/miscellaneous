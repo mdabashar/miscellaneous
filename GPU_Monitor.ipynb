{
 "cells": [
  {
   "cell_type": "code",
   "execution_count": 2,
   "metadata": {},
   "outputs": [
    {
     "name": "stdout",
     "output_type": "stream",
     "text": [
      "GPU 0 Utilization = 1%\n"
     ]
    }
   ],
   "source": [
    "from pynvml import *\n",
    "nvmlInit()\n",
    "ngpus = nvmlDeviceGetCount()\n",
    "for i in range(ngpus):\n",
    "    handle = nvmlDeviceGetHandleByIndex(i)\n",
    "    gpu_util = nvmlDeviceGetUtilizationRates(handle).gpu\n",
    "    print('GPU %d Utilization = %d%%' % (i, gpu_util))"
   ]
  }
 ],
 "metadata": {
  "kernelspec": {
   "display_name": "Python 3",
   "language": "python",
   "name": "python3"
  },
  "language_info": {
   "codemirror_mode": {
    "name": "ipython",
    "version": 3
   },
   "file_extension": ".py",
   "mimetype": "text/x-python",
   "name": "python",
   "nbconvert_exporter": "python",
   "pygments_lexer": "ipython3",
   "version": "3.7.6"
  }
 },
 "nbformat": 4,
 "nbformat_minor": 4
}
