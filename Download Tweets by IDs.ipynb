{
 "cells": [
  {
   "cell_type": "markdown",
   "metadata": {},
   "source": [
    "# Twitter API - get tweets with specific ID"
   ]
  },
  {
   "cell_type": "markdown",
   "metadata": {},
   "source": [
    "### Install the Twython library"
   ]
  },
  {
   "cell_type": "code",
   "execution_count": null,
   "metadata": {},
   "outputs": [],
   "source": [
    "# !pip install Twython"
   ]
  },
  {
   "cell_type": "markdown",
   "metadata": {},
   "source": [
    "### import required libraries"
   ]
  },
  {
   "cell_type": "code",
   "execution_count": null,
   "metadata": {},
   "outputs": [],
   "source": [
    "from twython import Twython\n",
    "import pandas as pd"
   ]
  },
  {
   "cell_type": "markdown",
   "metadata": {},
   "source": [
    "### Load IDs"
   ]
  },
  {
   "cell_type": "code",
   "execution_count": null,
   "metadata": {},
   "outputs": [],
   "source": [
    "# BASE = 'D:\\\\ResearchDataGtx1060\\\\SentimentData\\\\Racism\\\\'\n",
    "# fin = 'NAACL_SRW_2016_IDs.csv'\n",
    "# fout = 'NAACL_SRW_2016_Tweets.csv'\n",
    "\n",
    "BASE = 'D:\\\\ResearchDataGtx1060\\\\MisInformation\\\\'\n",
    "fin = 'Dataset-I.txt'\n",
    "fout = 'Dataset-I_Tweets.csv'"
   ]
  },
  {
   "cell_type": "code",
   "execution_count": null,
   "metadata": {},
   "outputs": [],
   "source": [
    "df_in = pd.read_csv(BASE+fin, sep='\\t', dtype=str)\n",
    "#df_in = pd.read_csv(BASE+fin, header=None)\n",
    "df_in"
   ]
  },
  {
   "cell_type": "code",
   "execution_count": null,
   "metadata": {},
   "outputs": [],
   "source": [
    "df_in.groupby('class').count()"
   ]
  },
  {
   "cell_type": "markdown",
   "metadata": {},
   "source": [
    "### Define API access information"
   ]
  },
  {
   "cell_type": "code",
   "execution_count": null,
   "metadata": {},
   "outputs": [],
   "source": [
    "df_key = pd.read_csv('TwitterKyes.key', sep=':', header=None)\n",
    "df_key.columns = ['Name', 'Val']\n",
    "df_key"
   ]
  },
  {
   "cell_type": "code",
   "execution_count": null,
   "metadata": {},
   "outputs": [],
   "source": [
    "# Generate your own at https://apps.twitter.com/app\n",
    "\n",
    "CONSUMER_KEY = df_key.loc[0, 'Val'] # \"<Consumer Key (API key)>\"\n",
    "CONSUMER_SECRET = df_key.loc[1, 'Val'] # \"<Consumer Secret (API Secret)>\"\n",
    "OAUTH_TOKEN = df_key.loc[3, 'Val'] # \"<application key (Access Token)>\"\n",
    "OAUTH_TOKEN_SECRET = df_key.loc[4, 'Val'] # \"<application secret (Access Token Secret)>\""
   ]
  },
  {
   "cell_type": "markdown",
   "metadata": {},
   "source": [
    "### Creat the API object"
   ]
  },
  {
   "cell_type": "code",
   "execution_count": null,
   "metadata": {},
   "outputs": [],
   "source": [
    "twitter = Twython(CONSUMER_KEY, \n",
    "                  CONSUMER_SECRET,\n",
    "                  OAUTH_TOKEN, \n",
    "                  OAUTH_TOKEN_SECRET)"
   ]
  },
  {
   "cell_type": "markdown",
   "metadata": {},
   "source": [
    "### Test the API"
   ]
  },
  {
   "cell_type": "code",
   "execution_count": null,
   "metadata": {},
   "outputs": [],
   "source": [
    "# tweet = twitter.show_status(id='1270081492908216320')\n",
    "# print(tweet['text'])"
   ]
  },
  {
   "cell_type": "code",
   "execution_count": null,
   "metadata": {},
   "outputs": [],
   "source": [
    "df_in.loc[0, 'id']"
   ]
  },
  {
   "cell_type": "markdown",
   "metadata": {},
   "source": [
    "### Obtain the tweets for the IDs"
   ]
  },
  {
   "cell_type": "code",
   "execution_count": null,
   "metadata": {},
   "outputs": [],
   "source": [
    "tweet_list = []\n",
    "count = 0\n",
    "for idx in df_in.index:\n",
    "    try:\n",
    "        tweet = twitter.show_status(id = df_in.loc[idx, 'id'])\n",
    "        tweet_list.append(tweet)\n",
    "        if count%100==0:\n",
    "            print(tweet['text'])\n",
    "        count += 1\n",
    "    except:\n",
    "        continue"
   ]
  },
  {
   "cell_type": "code",
   "execution_count": null,
   "metadata": {},
   "outputs": [],
   "source": [
    "len(tweet_list)"
   ]
  },
  {
   "cell_type": "code",
   "execution_count": null,
   "metadata": {},
   "outputs": [],
   "source": [
    "tweet_list"
   ]
  },
  {
   "cell_type": "code",
   "execution_count": null,
   "metadata": {},
   "outputs": [],
   "source": [
    "len(df_in)"
   ]
  },
  {
   "cell_type": "code",
   "execution_count": null,
   "metadata": {},
   "outputs": [],
   "source": [
    "def get_tweet(tid):\n",
    "    for tweet in tweet_list:\n",
    "        if tweet['id_str']==tid:\n",
    "            return tweet\n",
    "    return None\n",
    "\n",
    "row_list = []\n",
    "for idx in df_in.index:\n",
    "    tweet = get_tweet(df_in.loc[idx, 'id'])\n",
    "    if tweet!=None:\n",
    "        row = {}\n",
    "        row['id'] = df_in.loc[idx, 'id']\n",
    "        row['text'] = tweet['text']\n",
    "        row['label'] = df_in.loc[idx, 'class']\n",
    "        row_list.append(row)"
   ]
  },
  {
   "cell_type": "code",
   "execution_count": null,
   "metadata": {},
   "outputs": [],
   "source": [
    "len(row_list)"
   ]
  },
  {
   "cell_type": "code",
   "execution_count": null,
   "metadata": {},
   "outputs": [],
   "source": [
    "df_out = pd.DataFrame(row_list)\n",
    "df_out.head(10)"
   ]
  },
  {
   "cell_type": "code",
   "execution_count": null,
   "metadata": {},
   "outputs": [],
   "source": [
    "df_out.groupby('label').count()"
   ]
  },
  {
   "cell_type": "markdown",
   "metadata": {},
   "source": [
    "### Store the tweets"
   ]
  },
  {
   "cell_type": "code",
   "execution_count": null,
   "metadata": {},
   "outputs": [],
   "source": [
    "#tweet_list\n",
    "import json\n",
    "\n",
    "with open(BASE+'Dataset-I_TweetsMeta.json', 'w') as FO:\n",
    "    json.dump(tweet_list, FO)"
   ]
  },
  {
   "cell_type": "code",
   "execution_count": null,
   "metadata": {},
   "outputs": [],
   "source": [
    "df_out.to_csv(BASE+fout, index=None)"
   ]
  }
 ],
 "metadata": {
  "kernelspec": {
   "display_name": "Python 3",
   "language": "python",
   "name": "python3"
  },
  "language_info": {
   "codemirror_mode": {
    "name": "ipython",
    "version": 3
   },
   "file_extension": ".py",
   "mimetype": "text/x-python",
   "name": "python",
   "nbconvert_exporter": "python",
   "pygments_lexer": "ipython3",
   "version": "3.7.6"
  }
 },
 "nbformat": 4,
 "nbformat_minor": 4
}
