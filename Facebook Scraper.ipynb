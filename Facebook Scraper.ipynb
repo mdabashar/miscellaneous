{
 "cells": [
  {
   "cell_type": "code",
   "execution_count": 1,
   "metadata": {},
   "outputs": [],
   "source": [
    "from facebook_scraper import get_posts"
   ]
  },
  {
   "cell_type": "code",
   "execution_count": 2,
   "metadata": {},
   "outputs": [
    {
     "name": "stdout",
     "output_type": "stream",
     "text": [
      "YOUTUBE.COM\n",
      "Math Antics - Mean, Median and Mode\n",
      "জনাব মফিজের একদিন\n",
      "-------------------------------\n",
      ".\n",
      "জনাব মফিজ নোয়াখালীকে একেবারেই পছন্দ করেন না। একদিন তিনি নোয়খালীকে গালি দিতে দিতে নীলক্ষেত দিয়ে ঢাকা বিশ্ববিদ্যালয়ে প্রবেশ করিতেছিলেন। ঢুকিবার মুখেই দেখিলেন সার্জেন্ট জহুরুল হক হল, এফ রহমান হল। যখন শুনিলেন দুইজনেরই জন্মস্থান নোয়াখালী, মফিজ তীব্র স্বরে আর্তনাদ করিয়া উঠিলো।\n",
      ".\n",
      "এরপর তিনি রওনা দিলেন শামসুন্নাহার হলের উদ্দেশ্যে। জৈনক রমনীর সাথে তাহার ইটিশ পিটিশ চলিতেছিল। কিন্তু সেখানে গিয়ে তিনি ব্রেকাপ করিবার সিদ্ধান্ত নিলেন, কারন বেগম শামসুন্নাহারও নোয়াখাইল্যা।\n",
      ".\n",
      "এরপর, তিনি বুকের কষ্ট চাপা দিয়া বাংলা একাডেমির বই মেলায় প্রবেশ করিলেন। বই মেলা থেকে তিনি মুনীর চৌধুরী এবং শহীদুল্লাহ কায়সারের দুইখান বই কিনিয়া লইলেন। মেলায় ঘুরিতে ঘুরিতে এক্স গার্লফ্রেন্ডের সাথে দেখা। এক্স জানাইলো বাংলা একাডেমীর বই মেলার জনক চিত্ত রঞ্জন সাহা একজন নোয়াখাইল্যা। আর সেই বই মেলা থেকে কেনা বই এর লেখক মুনীর চৌধুরি, শহীদুল্লাহ কায়সারের বাড়িও নোয়াখালী। এই কথা শুনিয়া তিনি দ্রুত বেগে বই মেলা প্রস্থান করিলেন।\n",
      ".\n",
      "বই মেলা থেকে বের হয়ে তিনি বেঙ্গল বিস্কুট চিবাইতে চিবাইতে সেজান জুস\n"
     ]
    }
   ],
   "source": [
    "#Send the unique page name as the first parameter and you're good to go:\n",
    "for post in get_posts('chs24', pages=1):\n",
    "    print(post['text'][:1000])"
   ]
  }
 ],
 "metadata": {
  "kernelspec": {
   "display_name": "Python 3",
   "language": "python",
   "name": "python3"
  },
  "language_info": {
   "codemirror_mode": {
    "name": "ipython",
    "version": 3
   },
   "file_extension": ".py",
   "mimetype": "text/x-python",
   "name": "python",
   "nbconvert_exporter": "python",
   "pygments_lexer": "ipython3",
   "version": "3.7.6"
  }
 },
 "nbformat": 4,
 "nbformat_minor": 4
}
