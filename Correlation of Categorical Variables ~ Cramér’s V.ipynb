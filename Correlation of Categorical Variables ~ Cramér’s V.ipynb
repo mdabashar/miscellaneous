{
 "cells": [
  {
   "cell_type": "markdown",
   "id": "799fa88b",
   "metadata": {},
   "source": [
    "### Correlation of Categorical Variables (Cramér’s V):\n",
    "\n",
    "References: \n",
    "\n",
    "1. https://towardsdatascience.com/the-search-for-categorical-correlation-a1cf7f1888c9\n",
    "\n",
    "2. https://en.wikipedia.org/wiki/Cram%C3%A9r%27s_V"
   ]
  },
  {
   "cell_type": "code",
   "execution_count": 9,
   "id": "af568f93",
   "metadata": {},
   "outputs": [],
   "source": [
    "import scipy.stats as ss\n",
    "import pandas as pd\n",
    "import numpy as np"
   ]
  },
  {
   "cell_type": "code",
   "execution_count": 3,
   "id": "a7af0ceb",
   "metadata": {},
   "outputs": [],
   "source": [
    "def cramers_v(x, y):\n",
    "    confusion_matrix = pd.crosstab(x,y)\n",
    "    chi2 = ss.chi2_contingency(confusion_matrix)[0]\n",
    "    n = confusion_matrix.sum().sum()\n",
    "    phi2 = chi2/n\n",
    "    r,k = confusion_matrix.shape\n",
    "    phi2corr = max(0, phi2-((k-1)*(r-1))/(n-1))\n",
    "    rcorr = r-((r-1)**2)/(n-1)\n",
    "    kcorr = k-((k-1)**2)/(n-1)\n",
    "    return np.sqrt(phi2corr/min((kcorr-1),(rcorr-1)))"
   ]
  },
  {
   "cell_type": "code",
   "execution_count": 27,
   "id": "75d8bbb7",
   "metadata": {},
   "outputs": [],
   "source": [
    "x = ['1', '1', '1', '2', '2', '2', '2', '2', '2', '2', '2', '2', '0', '1', '0', '2', '0', '2', '0', '0', '0', '2', '0', '2', '1']\n",
    "y = ['True','True','True','Conf','Conf','Conf','Conf','Conf','Conf','Conf','Conf','Conf','False''True','False''Conf','False''Conf','False''False''False''Conf','False''Conf','True']"
   ]
  },
  {
   "cell_type": "code",
   "execution_count": 28,
   "id": "a8d2b8e1",
   "metadata": {},
   "outputs": [],
   "source": [
    "x = pd.Series(x)\n",
    "y = pd.Series(y)"
   ]
  },
  {
   "cell_type": "code",
   "execution_count": 29,
   "id": "d3308f76",
   "metadata": {},
   "outputs": [
    {
     "data": {
      "text/plain": [
       "0.7081030522882475"
      ]
     },
     "execution_count": 29,
     "metadata": {},
     "output_type": "execute_result"
    }
   ],
   "source": [
    "cramers_v(x, y)"
   ]
  }
 ],
 "metadata": {
  "kernelspec": {
   "display_name": "Python 3",
   "language": "python",
   "name": "python3"
  },
  "language_info": {
   "codemirror_mode": {
    "name": "ipython",
    "version": 3
   },
   "file_extension": ".py",
   "mimetype": "text/x-python",
   "name": "python",
   "nbconvert_exporter": "python",
   "pygments_lexer": "ipython3",
   "version": "3.8.8"
  }
 },
 "nbformat": 4,
 "nbformat_minor": 5
}
