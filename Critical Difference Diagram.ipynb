{
 "cells": [
  {
   "cell_type": "markdown",
   "metadata": {},
   "source": [
    "### Source: \n",
    "\n",
    "https://github.com/hfawaz/cd-diagram"
   ]
  },
  {
   "cell_type": "code",
   "execution_count": 1,
   "metadata": {},
   "outputs": [],
   "source": [
    "import pandas as pd\n",
    "import numpy as np\n",
    "from evaldata import EvalData\n",
    "from criticaldifference import CriticalDifference"
   ]
  },
  {
   "cell_type": "markdown",
   "metadata": {},
   "source": [
    "# Load Data"
   ]
  },
  {
   "cell_type": "code",
   "execution_count": 2,
   "metadata": {},
   "outputs": [
    {
     "name": "stdout",
     "output_type": "stream",
     "text": [
      "Eval Data Object Created\n"
     ]
    },
    {
     "data": {
      "text/plain": [
       "(9, 46)"
      ]
     },
     "execution_count": 2,
     "metadata": {},
     "output_type": "execute_result"
    }
   ],
   "source": [
    "BASE = 'AnomalyDetection_NabData_Txt\\\\'\n",
    "# measure = 'Accuracy'\n",
    "# measure = 'Precision'\n",
    "measure = 'Recall'\n",
    "# measure = 'f-measure'\n",
    "# measure = 'cohen_kappa_score'\n",
    "# measure = 'auc'\n",
    "\n",
    "\n",
    "title = ''\n",
    "if measure == 'f-measure':\n",
    "    SUB = str.maketrans(\"0123456789\", \"₀₁₂₃₄₅₆₇₈₉\")\n",
    "    #title = 'F1 Score'.translate(SUB)\n",
    "    title = 'F1 Score'\n",
    "elif measure == 'cohen_kappa_score':\n",
    "    title = 'Cohen Kappa Score'\n",
    "elif measure == 'auc':\n",
    "    title = 'Area Under Curve'\n",
    "else:\n",
    "    title = measure\n",
    "\n",
    "ed = EvalData()\n",
    "data = ed.get_data(BASE, measure)\n",
    "data.shape"
   ]
  },
  {
   "cell_type": "markdown",
   "metadata": {},
   "source": [
    "# Visualise"
   ]
  },
  {
   "cell_type": "code",
   "execution_count": 3,
   "metadata": {},
   "outputs": [],
   "source": [
    "mod_list = ['MadGan', 'AutoEncoder', 'VanLstm', 'IsoForest', 'GMM', 'OcSVM', 'BiLstmGan', 'CnnGan', 'ALGAN']\n",
    "dset_list = ['dataset'+str(i+1) for i in range(data.shape[1])]\n",
    "#measure = 'accuracy'\n",
    "\n",
    "rows = []\n",
    "for i, row in enumerate(data):\n",
    "    for j, col in enumerate(row):\n",
    "        arow = {'model':mod_list[i], 'dataset':dset_list[j], 'accuracy':col}\n",
    "        rows.append(arow)\n",
    "\n",
    "df = pd.DataFrame(rows)"
   ]
  },
  {
   "cell_type": "code",
   "execution_count": 4,
   "metadata": {},
   "outputs": [
    {
     "data": {
      "text/html": [
       "<div>\n",
       "<style scoped>\n",
       "    .dataframe tbody tr th:only-of-type {\n",
       "        vertical-align: middle;\n",
       "    }\n",
       "\n",
       "    .dataframe tbody tr th {\n",
       "        vertical-align: top;\n",
       "    }\n",
       "\n",
       "    .dataframe thead th {\n",
       "        text-align: right;\n",
       "    }\n",
       "</style>\n",
       "<table border=\"1\" class=\"dataframe\">\n",
       "  <thead>\n",
       "    <tr style=\"text-align: right;\">\n",
       "      <th></th>\n",
       "      <th>model</th>\n",
       "      <th>dataset</th>\n",
       "      <th>accuracy</th>\n",
       "    </tr>\n",
       "  </thead>\n",
       "  <tbody>\n",
       "    <tr>\n",
       "      <th>0</th>\n",
       "      <td>MadGan</td>\n",
       "      <td>dataset1</td>\n",
       "      <td>1.00</td>\n",
       "    </tr>\n",
       "    <tr>\n",
       "      <th>1</th>\n",
       "      <td>MadGan</td>\n",
       "      <td>dataset2</td>\n",
       "      <td>0.56</td>\n",
       "    </tr>\n",
       "    <tr>\n",
       "      <th>2</th>\n",
       "      <td>MadGan</td>\n",
       "      <td>dataset3</td>\n",
       "      <td>0.75</td>\n",
       "    </tr>\n",
       "    <tr>\n",
       "      <th>3</th>\n",
       "      <td>MadGan</td>\n",
       "      <td>dataset4</td>\n",
       "      <td>1.00</td>\n",
       "    </tr>\n",
       "    <tr>\n",
       "      <th>4</th>\n",
       "      <td>MadGan</td>\n",
       "      <td>dataset5</td>\n",
       "      <td>1.00</td>\n",
       "    </tr>\n",
       "  </tbody>\n",
       "</table>\n",
       "</div>"
      ],
      "text/plain": [
       "    model   dataset  accuracy\n",
       "0  MadGan  dataset1      1.00\n",
       "1  MadGan  dataset2      0.56\n",
       "2  MadGan  dataset3      0.75\n",
       "3  MadGan  dataset4      1.00\n",
       "4  MadGan  dataset5      1.00"
      ]
     },
     "execution_count": 4,
     "metadata": {},
     "output_type": "execute_result"
    }
   ],
   "source": [
    "df.head(5)"
   ]
  },
  {
   "cell_type": "code",
   "execution_count": 5,
   "metadata": {},
   "outputs": [
    {
     "name": "stdout",
     "output_type": "stream",
     "text": [
      "Critical Difference Object Created\n",
      "['MadGan' 'AutoEncoder' 'VanLstm' 'IsoForest' 'GMM' 'OcSVM' 'BiLstmGan'\n",
      " 'CnnGan' 'ALGAN']\n",
      "ALGAN          3.0\n",
      "AutoEncoder    0.0\n",
      "BiLstmGan      0.0\n",
      "CnnGan         1.0\n",
      "GMM            2.0\n",
      "IsoForest      0.0\n",
      "MadGan         0.0\n",
      "OcSVM          0.0\n",
      "VanLstm        1.0\n",
      "dtype: float64\n",
      "OcSVM          6.130435\n",
      "BiLstmGan      5.500000\n",
      "CnnGan         5.358696\n",
      "VanLstm        5.260870\n",
      "IsoForest      4.793478\n",
      "AutoEncoder    4.771739\n",
      "MadGan         4.510870\n",
      "GMM            4.456522\n",
      "ALGAN          4.217391\n",
      "dtype: float64\n",
      "('GMM', 'OcSVM', 0.00014034888130969655, True)\n",
      "('ALGAN', 'OcSVM', 0.0003349089344171943, True)\n",
      "('MadGan', 'OcSVM', 0.0006127246837957725, True)\n",
      "('BiLstmGan', 'GMM', 0.0010954502922129348, True)\n",
      "('ALGAN', 'BiLstmGan', 0.0016249420717477877, False)\n",
      "('AutoEncoder', 'OcSVM', 0.0029898698661095465, False)\n",
      "('IsoForest', 'OcSVM', 0.003942958478760473, False)\n",
      "('ALGAN', 'CnnGan', 0.006296814238528157, False)\n",
      "('BiLstmGan', 'MadGan', 0.010160598173465252, False)\n",
      "('ALGAN', 'VanLstm', 0.01332747000567994, False)\n",
      "('OcSVM', 'VanLstm', 0.019166666258212447, False)\n",
      "('CnnGan', 'MadGan', 0.025846248657818118, False)\n",
      "('CnnGan', 'GMM', 0.026115667457755287, False)\n",
      "('BiLstmGan', 'IsoForest', 0.03501671620379755, False)\n",
      "('GMM', 'VanLstm', 0.04033400706775112, False)\n",
      "('MadGan', 'VanLstm', 0.04703312643114434, False)\n",
      "('AutoEncoder', 'BiLstmGan', 0.04775138347623513, False)\n",
      "('BiLstmGan', 'OcSVM', 0.07287259659557678, False)\n",
      "('AutoEncoder', 'CnnGan', 0.10514018860808713, False)\n",
      "('ALGAN', 'AutoEncoder', 0.12406483333184454, False)\n",
      "('CnnGan', 'IsoForest', 0.12879580750541617, False)\n",
      "('ALGAN', 'MadGan', 0.15496950168666673, False)\n",
      "('ALGAN', 'IsoForest', 0.15519863894609273, False)\n",
      "('CnnGan', 'OcSVM', 0.189103599545283, False)\n",
      "('AutoEncoder', 'MadGan', 0.20698098659211095, False)\n",
      "('IsoForest', 'VanLstm', 0.23649020501840834, False)\n",
      "('AutoEncoder', 'VanLstm', 0.2552812065177994, False)\n",
      "('GMM', 'IsoForest', 0.291032533885935, False)\n",
      "('AutoEncoder', 'GMM', 0.311602561199701, False)\n",
      "('AutoEncoder', 'IsoForest', 0.3749562307102444, False)\n",
      "('IsoForest', 'MadGan', 0.5226779206799987, False)\n",
      "('CnnGan', 'VanLstm', 0.5985041937801209, False)\n",
      "('ALGAN', 'GMM', 0.628688108836511, False)\n",
      "('BiLstmGan', 'VanLstm', 0.8226134550972178, False)\n",
      "('BiLstmGan', 'CnnGan', 0.8796904352752026, False)\n",
      "('GMM', 'MadGan', 0.9092155507085429, False)\n",
      "Index(['OcSVM', 'BiLstmGan', 'CnnGan', 'VanLstm', 'IsoForest', 'AutoEncoder',\n",
      "       'MadGan', 'GMM', 'ALGAN'],\n",
      "      dtype='object')\n",
      "[2, 3, 4, 5, 1, 0]\n",
      "[2, 3, 4, 5, 1, 8, 6]\n",
      "[2, 3, 4, 5, 7, 8, 6]\n"
     ]
    },
    {
     "name": "stderr",
     "output_type": "stream",
     "text": [
      "C:\\Users\\basharm\\Anaconda3\\lib\\site-packages\\scipy\\stats\\_morestats.py:3255: UserWarning: Exact p-value calculation does not work if there are zeros. Switching to normal approximation.\n",
      "  warnings.warn(\"Exact p-value calculation does not work if there are \"\n"
     ]
    }
   ],
   "source": [
    "cd = CriticalDifference()\n",
    "cd.draw_cd_diagram(df_perf=df, title=title, labels=True)"
   ]
  },
  {
   "cell_type": "code",
   "execution_count": 6,
   "metadata": {},
   "outputs": [
    {
     "data": {
      "image/png": "[encoded data removed]",
      "text/plain": [
       "<IPython.core.display.Image object>"
      ]
     },
     "execution_count": 6,
     "metadata": {},
     "output_type": "execute_result"
    }
   ],
   "source": [
    "from IPython.display import Image\n",
    "Image(\"cd-diagram.png\")"
   ]
  }
 ],
 "metadata": {
  "kernelspec": {
   "display_name": "Python 3 (ipykernel)",
   "language": "python",
   "name": "python3"
  },
  "language_info": {
   "codemirror_mode": {
    "name": "ipython",
    "version": 3
   },
   "file_extension": ".py",
   "mimetype": "text/x-python",
   "name": "python",
   "nbconvert_exporter": "python",
   "pygments_lexer": "ipython3",
   "version": "3.9.13"
  }
 },
 "nbformat": 4,
 "nbformat_minor": 4
}
